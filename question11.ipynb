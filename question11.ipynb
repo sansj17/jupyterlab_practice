{
 "cells": [
  {
   "cell_type": "markdown",
   "id": "b0b4f976-3f05-4e62-87ba-60a1776b7ba1",
   "metadata": {},
   "source": [
    "# Santiago Sanchez Jimenez\n",
    "1 sentence under the level 1 header"
   ]
  },
  {
   "cell_type": "code",
   "execution_count": 3,
   "id": "5a436579-b697-49ed-8194-6561a8aa7ae2",
   "metadata": {},
   "outputs": [
    {
     "name": "stdout",
     "output_type": "stream",
     "text": [
      "5.0\n"
     ]
    }
   ],
   "source": [
    "# Mean function\n",
    "\n",
    "def compute_mean(numbers):\n",
    "    # Check if the list is not empty\n",
    "    if numbers:\n",
    "        mean_value = sum(numbers) / len(numbers)\n",
    "        print(mean_value)\n",
    "    else:\n",
    "        print(\"List is empty, no mean to compute.\")\n",
    "\n",
    "compute_mean([2,4,6,8])"
   ]
  },
  {
   "cell_type": "markdown",
   "id": "aa2e560d-9406-4f4c-87a6-849de775affa",
   "metadata": {},
   "source": [
    "## How does the function work:\n",
    "The function checks first to see if the arguments are numbers, if they are then it adds them up, and divides by the length of the list (which would be the equivalent of the amount of numbers).\n",
    "Finally it prints the `mean_value`; however, if the arguments are not numbers it throws the message list is empty, no mean to compute.\n",
    "\n",
    "It follows the formula:\n",
    "$$\n",
    "\\mu = \\frac{1}{n} \\sum_{i=1}^n x_i\n",
    "$$"
   ]
  },
  {
   "cell_type": "code",
   "execution_count": null,
   "id": "888bc4da-3c3c-4c05-865f-b81e586e8504",
   "metadata": {},
   "outputs": [],
   "source": []
  }
 ],
 "metadata": {
  "kernelspec": {
   "display_name": "Python 3 (ipykernel)",
   "language": "python",
   "name": "python3"
  },
  "language_info": {
   "codemirror_mode": {
    "name": "ipython",
    "version": 3
   },
   "file_extension": ".py",
   "mimetype": "text/x-python",
   "name": "python",
   "nbconvert_exporter": "python",
   "pygments_lexer": "ipython3",
   "version": "3.12.2"
  }
 },
 "nbformat": 4,
 "nbformat_minor": 5
}
